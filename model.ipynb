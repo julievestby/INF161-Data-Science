{
 "cells": [
  {
   "cell_type": "markdown",
   "metadata": {},
   "source": [
    "# **INF161 Project** - Bike traffic predictions\n",
    "\n",
    "#### *A model to predict how many people cycle over Nygårdsbroen at a given time.* "
   ]
  },
  {
   "cell_type": "markdown",
   "metadata": {},
   "source": [
    "## **Part 2** - Modelling and prediction"
   ]
  },
  {
   "cell_type": "markdown",
   "metadata": {},
   "source": [
    "In this part of the project I will do modelling and prediction. "
   ]
  },
  {
   "cell_type": "markdown",
   "metadata": {},
   "source": [
    "First, I implement necessary packages that I may want to use. "
   ]
  },
  {
   "cell_type": "code",
   "execution_count": 45,
   "metadata": {},
   "outputs": [],
   "source": [
    "import numpy as np\n",
    "import pandas as pd\n",
    "from sklearn.model_selection import train_test_split\n",
    "import pandas as pd\n",
    "import numpy as np\n",
    "from sklearn.metrics import mean_squared_error\n",
    "import pickle\n",
    "from sklearn.feature_selection import SelectKBest, f_regression\n",
    "from matplotlib import pyplot\n",
    "from sklearn.ensemble import RandomForestRegressor, HistGradientBoostingRegressor\n",
    "from sklearn.neighbors import KNeighborsRegressor\n",
    "from sklearn.linear_model import ElasticNet\n",
    "from sklearn.neural_network import MLPRegressor\n",
    "from sklearn.linear_model import Lasso\n",
    "from sklearn.tree import DecisionTreeRegressor\n",
    "from sklearn.dummy import DummyRegressor "
   ]
  },
  {
   "cell_type": "markdown",
   "metadata": {},
   "source": [
    "First, I read in the two data files and printed the clean data to have a look on it."
   ]
  },
  {
   "cell_type": "code",
   "execution_count": 46,
   "metadata": {},
   "outputs": [],
   "source": [
    "clean_data = pd.read_csv(\"clean_data.csv\")\n",
    "weather_traffic_2022 = pd.read_csv(\"weather_traffic_2022.csv\")"
   ]
  },
  {
   "cell_type": "code",
   "execution_count": 47,
   "metadata": {},
   "outputs": [
    {
     "data": {
      "text/html": [
       "<div>\n",
       "<style scoped>\n",
       "    .dataframe tbody tr th:only-of-type {\n",
       "        vertical-align: middle;\n",
       "    }\n",
       "\n",
       "    .dataframe tbody tr th {\n",
       "        vertical-align: top;\n",
       "    }\n",
       "\n",
       "    .dataframe thead th {\n",
       "        text-align: right;\n",
       "    }\n",
       "</style>\n",
       "<table border=\"1\" class=\"dataframe\">\n",
       "  <thead>\n",
       "    <tr style=\"text-align: right;\">\n",
       "      <th></th>\n",
       "      <th>Datetime</th>\n",
       "      <th>Globalstraling</th>\n",
       "      <th>Solskinstid</th>\n",
       "      <th>Lufttemperatur</th>\n",
       "      <th>Vindstyrke</th>\n",
       "      <th>Volum</th>\n",
       "      <th>Season</th>\n",
       "      <th>Weekdays</th>\n",
       "      <th>Weekends</th>\n",
       "    </tr>\n",
       "  </thead>\n",
       "  <tbody>\n",
       "    <tr>\n",
       "      <th>0</th>\n",
       "      <td>2015-07-16 16:00:00</td>\n",
       "      <td>432.833333</td>\n",
       "      <td>48.7</td>\n",
       "      <td>13.733333</td>\n",
       "      <td>4.333333</td>\n",
       "      <td>107.0</td>\n",
       "      <td>2</td>\n",
       "      <td>3</td>\n",
       "      <td>0</td>\n",
       "    </tr>\n",
       "    <tr>\n",
       "      <th>1</th>\n",
       "      <td>2015-07-16 17:00:00</td>\n",
       "      <td>378.400000</td>\n",
       "      <td>60.0</td>\n",
       "      <td>13.866667</td>\n",
       "      <td>3.933333</td>\n",
       "      <td>84.0</td>\n",
       "      <td>2</td>\n",
       "      <td>3</td>\n",
       "      <td>0</td>\n",
       "    </tr>\n",
       "    <tr>\n",
       "      <th>2</th>\n",
       "      <td>2015-07-16 18:00:00</td>\n",
       "      <td>212.583333</td>\n",
       "      <td>60.0</td>\n",
       "      <td>13.216667</td>\n",
       "      <td>4.233333</td>\n",
       "      <td>57.0</td>\n",
       "      <td>2</td>\n",
       "      <td>3</td>\n",
       "      <td>0</td>\n",
       "    </tr>\n",
       "    <tr>\n",
       "      <th>3</th>\n",
       "      <td>2015-07-16 19:00:00</td>\n",
       "      <td>79.750000</td>\n",
       "      <td>60.0</td>\n",
       "      <td>12.683333</td>\n",
       "      <td>2.950000</td>\n",
       "      <td>49.0</td>\n",
       "      <td>2</td>\n",
       "      <td>3</td>\n",
       "      <td>0</td>\n",
       "    </tr>\n",
       "    <tr>\n",
       "      <th>4</th>\n",
       "      <td>2015-07-16 20:00:00</td>\n",
       "      <td>10.633333</td>\n",
       "      <td>36.0</td>\n",
       "      <td>12.066667</td>\n",
       "      <td>2.483333</td>\n",
       "      <td>45.0</td>\n",
       "      <td>2</td>\n",
       "      <td>3</td>\n",
       "      <td>0</td>\n",
       "    </tr>\n",
       "    <tr>\n",
       "      <th>...</th>\n",
       "      <td>...</td>\n",
       "      <td>...</td>\n",
       "      <td>...</td>\n",
       "      <td>...</td>\n",
       "      <td>...</td>\n",
       "      <td>...</td>\n",
       "      <td>...</td>\n",
       "      <td>...</td>\n",
       "      <td>...</td>\n",
       "    </tr>\n",
       "    <tr>\n",
       "      <th>56381</th>\n",
       "      <td>2021-12-31 18:00:00</td>\n",
       "      <td>-0.100000</td>\n",
       "      <td>0.0</td>\n",
       "      <td>6.483333</td>\n",
       "      <td>0.466667</td>\n",
       "      <td>5.0</td>\n",
       "      <td>0</td>\n",
       "      <td>4</td>\n",
       "      <td>0</td>\n",
       "    </tr>\n",
       "    <tr>\n",
       "      <th>56382</th>\n",
       "      <td>2021-12-31 19:00:00</td>\n",
       "      <td>-0.266667</td>\n",
       "      <td>0.0</td>\n",
       "      <td>5.616667</td>\n",
       "      <td>2.650000</td>\n",
       "      <td>4.0</td>\n",
       "      <td>0</td>\n",
       "      <td>4</td>\n",
       "      <td>0</td>\n",
       "    </tr>\n",
       "    <tr>\n",
       "      <th>56383</th>\n",
       "      <td>2021-12-31 20:00:00</td>\n",
       "      <td>-0.550000</td>\n",
       "      <td>0.0</td>\n",
       "      <td>4.700000</td>\n",
       "      <td>1.916667</td>\n",
       "      <td>2.0</td>\n",
       "      <td>0</td>\n",
       "      <td>4</td>\n",
       "      <td>0</td>\n",
       "    </tr>\n",
       "    <tr>\n",
       "      <th>56384</th>\n",
       "      <td>2021-12-31 21:00:00</td>\n",
       "      <td>-1.400000</td>\n",
       "      <td>0.0</td>\n",
       "      <td>4.233333</td>\n",
       "      <td>1.733333</td>\n",
       "      <td>5.0</td>\n",
       "      <td>0</td>\n",
       "      <td>4</td>\n",
       "      <td>0</td>\n",
       "    </tr>\n",
       "    <tr>\n",
       "      <th>56385</th>\n",
       "      <td>2021-12-31 22:00:00</td>\n",
       "      <td>-1.783333</td>\n",
       "      <td>0.0</td>\n",
       "      <td>3.716667</td>\n",
       "      <td>0.600000</td>\n",
       "      <td>2.0</td>\n",
       "      <td>0</td>\n",
       "      <td>4</td>\n",
       "      <td>0</td>\n",
       "    </tr>\n",
       "  </tbody>\n",
       "</table>\n",
       "<p>56386 rows × 9 columns</p>\n",
       "</div>"
      ],
      "text/plain": [
       "                  Datetime  Globalstraling  Solskinstid  Lufttemperatur  \\\n",
       "0      2015-07-16 16:00:00      432.833333         48.7       13.733333   \n",
       "1      2015-07-16 17:00:00      378.400000         60.0       13.866667   \n",
       "2      2015-07-16 18:00:00      212.583333         60.0       13.216667   \n",
       "3      2015-07-16 19:00:00       79.750000         60.0       12.683333   \n",
       "4      2015-07-16 20:00:00       10.633333         36.0       12.066667   \n",
       "...                    ...             ...          ...             ...   \n",
       "56381  2021-12-31 18:00:00       -0.100000          0.0        6.483333   \n",
       "56382  2021-12-31 19:00:00       -0.266667          0.0        5.616667   \n",
       "56383  2021-12-31 20:00:00       -0.550000          0.0        4.700000   \n",
       "56384  2021-12-31 21:00:00       -1.400000          0.0        4.233333   \n",
       "56385  2021-12-31 22:00:00       -1.783333          0.0        3.716667   \n",
       "\n",
       "       Vindstyrke  Volum  Season  Weekdays  Weekends  \n",
       "0        4.333333  107.0       2         3         0  \n",
       "1        3.933333   84.0       2         3         0  \n",
       "2        4.233333   57.0       2         3         0  \n",
       "3        2.950000   49.0       2         3         0  \n",
       "4        2.483333   45.0       2         3         0  \n",
       "...           ...    ...     ...       ...       ...  \n",
       "56381    0.466667    5.0       0         4         0  \n",
       "56382    2.650000    4.0       0         4         0  \n",
       "56383    1.916667    2.0       0         4         0  \n",
       "56384    1.733333    5.0       0         4         0  \n",
       "56385    0.600000    2.0       0         4         0  \n",
       "\n",
       "[56386 rows x 9 columns]"
      ]
     },
     "execution_count": 47,
     "metadata": {},
     "output_type": "execute_result"
    }
   ],
   "source": [
    "clean_data"
   ]
  },
  {
   "cell_type": "markdown",
   "metadata": {},
   "source": [
    "Then I made a function to change the datetime column. I split it into to four separate columns, year, month, day and hour. "
   ]
  },
  {
   "cell_type": "code",
   "execution_count": 48,
   "metadata": {},
   "outputs": [
    {
     "data": {
      "text/html": [
       "<div>\n",
       "<style scoped>\n",
       "    .dataframe tbody tr th:only-of-type {\n",
       "        vertical-align: middle;\n",
       "    }\n",
       "\n",
       "    .dataframe tbody tr th {\n",
       "        vertical-align: top;\n",
       "    }\n",
       "\n",
       "    .dataframe thead th {\n",
       "        text-align: right;\n",
       "    }\n",
       "</style>\n",
       "<table border=\"1\" class=\"dataframe\">\n",
       "  <thead>\n",
       "    <tr style=\"text-align: right;\">\n",
       "      <th></th>\n",
       "      <th>Datetime</th>\n",
       "      <th>Globalstraling</th>\n",
       "      <th>Solskinstid</th>\n",
       "      <th>Lufttemperatur</th>\n",
       "      <th>Vindstyrke</th>\n",
       "      <th>Volum</th>\n",
       "      <th>Season</th>\n",
       "      <th>Weekdays</th>\n",
       "      <th>Weekends</th>\n",
       "      <th>Year</th>\n",
       "      <th>Month</th>\n",
       "      <th>Day</th>\n",
       "      <th>Hour</th>\n",
       "    </tr>\n",
       "  </thead>\n",
       "  <tbody>\n",
       "    <tr>\n",
       "      <th>0</th>\n",
       "      <td>2015-07-16 16:00:00</td>\n",
       "      <td>432.833333</td>\n",
       "      <td>48.7</td>\n",
       "      <td>13.733333</td>\n",
       "      <td>4.333333</td>\n",
       "      <td>107.0</td>\n",
       "      <td>2</td>\n",
       "      <td>3</td>\n",
       "      <td>0</td>\n",
       "      <td>2015</td>\n",
       "      <td>07</td>\n",
       "      <td>16</td>\n",
       "      <td>16</td>\n",
       "    </tr>\n",
       "    <tr>\n",
       "      <th>1</th>\n",
       "      <td>2015-07-16 17:00:00</td>\n",
       "      <td>378.400000</td>\n",
       "      <td>60.0</td>\n",
       "      <td>13.866667</td>\n",
       "      <td>3.933333</td>\n",
       "      <td>84.0</td>\n",
       "      <td>2</td>\n",
       "      <td>3</td>\n",
       "      <td>0</td>\n",
       "      <td>2015</td>\n",
       "      <td>07</td>\n",
       "      <td>16</td>\n",
       "      <td>17</td>\n",
       "    </tr>\n",
       "    <tr>\n",
       "      <th>2</th>\n",
       "      <td>2015-07-16 18:00:00</td>\n",
       "      <td>212.583333</td>\n",
       "      <td>60.0</td>\n",
       "      <td>13.216667</td>\n",
       "      <td>4.233333</td>\n",
       "      <td>57.0</td>\n",
       "      <td>2</td>\n",
       "      <td>3</td>\n",
       "      <td>0</td>\n",
       "      <td>2015</td>\n",
       "      <td>07</td>\n",
       "      <td>16</td>\n",
       "      <td>18</td>\n",
       "    </tr>\n",
       "    <tr>\n",
       "      <th>3</th>\n",
       "      <td>2015-07-16 19:00:00</td>\n",
       "      <td>79.750000</td>\n",
       "      <td>60.0</td>\n",
       "      <td>12.683333</td>\n",
       "      <td>2.950000</td>\n",
       "      <td>49.0</td>\n",
       "      <td>2</td>\n",
       "      <td>3</td>\n",
       "      <td>0</td>\n",
       "      <td>2015</td>\n",
       "      <td>07</td>\n",
       "      <td>16</td>\n",
       "      <td>19</td>\n",
       "    </tr>\n",
       "    <tr>\n",
       "      <th>4</th>\n",
       "      <td>2015-07-16 20:00:00</td>\n",
       "      <td>10.633333</td>\n",
       "      <td>36.0</td>\n",
       "      <td>12.066667</td>\n",
       "      <td>2.483333</td>\n",
       "      <td>45.0</td>\n",
       "      <td>2</td>\n",
       "      <td>3</td>\n",
       "      <td>0</td>\n",
       "      <td>2015</td>\n",
       "      <td>07</td>\n",
       "      <td>16</td>\n",
       "      <td>20</td>\n",
       "    </tr>\n",
       "    <tr>\n",
       "      <th>...</th>\n",
       "      <td>...</td>\n",
       "      <td>...</td>\n",
       "      <td>...</td>\n",
       "      <td>...</td>\n",
       "      <td>...</td>\n",
       "      <td>...</td>\n",
       "      <td>...</td>\n",
       "      <td>...</td>\n",
       "      <td>...</td>\n",
       "      <td>...</td>\n",
       "      <td>...</td>\n",
       "      <td>...</td>\n",
       "      <td>...</td>\n",
       "    </tr>\n",
       "    <tr>\n",
       "      <th>56381</th>\n",
       "      <td>2021-12-31 18:00:00</td>\n",
       "      <td>-0.100000</td>\n",
       "      <td>0.0</td>\n",
       "      <td>6.483333</td>\n",
       "      <td>0.466667</td>\n",
       "      <td>5.0</td>\n",
       "      <td>0</td>\n",
       "      <td>4</td>\n",
       "      <td>0</td>\n",
       "      <td>2021</td>\n",
       "      <td>12</td>\n",
       "      <td>31</td>\n",
       "      <td>18</td>\n",
       "    </tr>\n",
       "    <tr>\n",
       "      <th>56382</th>\n",
       "      <td>2021-12-31 19:00:00</td>\n",
       "      <td>-0.266667</td>\n",
       "      <td>0.0</td>\n",
       "      <td>5.616667</td>\n",
       "      <td>2.650000</td>\n",
       "      <td>4.0</td>\n",
       "      <td>0</td>\n",
       "      <td>4</td>\n",
       "      <td>0</td>\n",
       "      <td>2021</td>\n",
       "      <td>12</td>\n",
       "      <td>31</td>\n",
       "      <td>19</td>\n",
       "    </tr>\n",
       "    <tr>\n",
       "      <th>56383</th>\n",
       "      <td>2021-12-31 20:00:00</td>\n",
       "      <td>-0.550000</td>\n",
       "      <td>0.0</td>\n",
       "      <td>4.700000</td>\n",
       "      <td>1.916667</td>\n",
       "      <td>2.0</td>\n",
       "      <td>0</td>\n",
       "      <td>4</td>\n",
       "      <td>0</td>\n",
       "      <td>2021</td>\n",
       "      <td>12</td>\n",
       "      <td>31</td>\n",
       "      <td>20</td>\n",
       "    </tr>\n",
       "    <tr>\n",
       "      <th>56384</th>\n",
       "      <td>2021-12-31 21:00:00</td>\n",
       "      <td>-1.400000</td>\n",
       "      <td>0.0</td>\n",
       "      <td>4.233333</td>\n",
       "      <td>1.733333</td>\n",
       "      <td>5.0</td>\n",
       "      <td>0</td>\n",
       "      <td>4</td>\n",
       "      <td>0</td>\n",
       "      <td>2021</td>\n",
       "      <td>12</td>\n",
       "      <td>31</td>\n",
       "      <td>21</td>\n",
       "    </tr>\n",
       "    <tr>\n",
       "      <th>56385</th>\n",
       "      <td>2021-12-31 22:00:00</td>\n",
       "      <td>-1.783333</td>\n",
       "      <td>0.0</td>\n",
       "      <td>3.716667</td>\n",
       "      <td>0.600000</td>\n",
       "      <td>2.0</td>\n",
       "      <td>0</td>\n",
       "      <td>4</td>\n",
       "      <td>0</td>\n",
       "      <td>2021</td>\n",
       "      <td>12</td>\n",
       "      <td>31</td>\n",
       "      <td>22</td>\n",
       "    </tr>\n",
       "  </tbody>\n",
       "</table>\n",
       "<p>56386 rows × 13 columns</p>\n",
       "</div>"
      ],
      "text/plain": [
       "                 Datetime  Globalstraling  Solskinstid  Lufttemperatur  \\\n",
       "0     2015-07-16 16:00:00      432.833333         48.7       13.733333   \n",
       "1     2015-07-16 17:00:00      378.400000         60.0       13.866667   \n",
       "2     2015-07-16 18:00:00      212.583333         60.0       13.216667   \n",
       "3     2015-07-16 19:00:00       79.750000         60.0       12.683333   \n",
       "4     2015-07-16 20:00:00       10.633333         36.0       12.066667   \n",
       "...                   ...             ...          ...             ...   \n",
       "56381 2021-12-31 18:00:00       -0.100000          0.0        6.483333   \n",
       "56382 2021-12-31 19:00:00       -0.266667          0.0        5.616667   \n",
       "56383 2021-12-31 20:00:00       -0.550000          0.0        4.700000   \n",
       "56384 2021-12-31 21:00:00       -1.400000          0.0        4.233333   \n",
       "56385 2021-12-31 22:00:00       -1.783333          0.0        3.716667   \n",
       "\n",
       "       Vindstyrke  Volum  Season  Weekdays  Weekends  Year Month Day Hour  \n",
       "0        4.333333  107.0       2         3         0  2015    07  16   16  \n",
       "1        3.933333   84.0       2         3         0  2015    07  16   17  \n",
       "2        4.233333   57.0       2         3         0  2015    07  16   18  \n",
       "3        2.950000   49.0       2         3         0  2015    07  16   19  \n",
       "4        2.483333   45.0       2         3         0  2015    07  16   20  \n",
       "...           ...    ...     ...       ...       ...   ...   ...  ..  ...  \n",
       "56381    0.466667    5.0       0         4         0  2021    12  31   18  \n",
       "56382    2.650000    4.0       0         4         0  2021    12  31   19  \n",
       "56383    1.916667    2.0       0         4         0  2021    12  31   20  \n",
       "56384    1.733333    5.0       0         4         0  2021    12  31   21  \n",
       "56385    0.600000    2.0       0         4         0  2021    12  31   22  \n",
       "\n",
       "[56386 rows x 13 columns]"
      ]
     },
     "execution_count": 48,
     "metadata": {},
     "output_type": "execute_result"
    }
   ],
   "source": [
    "def separateDatetime(data):\n",
    "    data[\"Year\"] = data[\"Datetime\"].astype(str)\n",
    "\n",
    "    data[\"Datetime\"] = pd.to_datetime(data[\"Datetime\"])\n",
    "\n",
    "    date1 = data[\"Year\"].str.split(\"-\", n=4, expand=True)\n",
    "    data[\"Year\"] = date1[0]\n",
    "    data[\"Month\"] = date1[1]\n",
    "    data[\"Day\"] = date1[2]\n",
    "\n",
    "    date2 = data[\"Day\"].str.split(\" \", n=4, expand=True)\n",
    "    data[\"Day\"] = date2[0]\n",
    "    data[\"Hour\"] = date2[1]\n",
    "\n",
    "    date3 = data[\"Hour\"].str.split(\":\", n=4, expand=True)\n",
    "    data[\"Hour\"] = date3[0]\n",
    "\n",
    "separateDatetime(clean_data)\n",
    "clean_data"
   ]
  },
  {
   "cell_type": "markdown",
   "metadata": {},
   "source": [
    "Then I dropped the \"Datetime\" before splitting the data in to training, validation and test data."
   ]
  },
  {
   "cell_type": "code",
   "execution_count": 49,
   "metadata": {},
   "outputs": [
    {
     "data": {
      "text/html": [
       "<div>\n",
       "<style scoped>\n",
       "    .dataframe tbody tr th:only-of-type {\n",
       "        vertical-align: middle;\n",
       "    }\n",
       "\n",
       "    .dataframe tbody tr th {\n",
       "        vertical-align: top;\n",
       "    }\n",
       "\n",
       "    .dataframe thead th {\n",
       "        text-align: right;\n",
       "    }\n",
       "</style>\n",
       "<table border=\"1\" class=\"dataframe\">\n",
       "  <thead>\n",
       "    <tr style=\"text-align: right;\">\n",
       "      <th></th>\n",
       "      <th>Globalstraling</th>\n",
       "      <th>Solskinstid</th>\n",
       "      <th>Lufttemperatur</th>\n",
       "      <th>Vindstyrke</th>\n",
       "      <th>Volum</th>\n",
       "      <th>Season</th>\n",
       "      <th>Weekdays</th>\n",
       "      <th>Weekends</th>\n",
       "      <th>Year</th>\n",
       "      <th>Month</th>\n",
       "      <th>Day</th>\n",
       "      <th>Hour</th>\n",
       "    </tr>\n",
       "  </thead>\n",
       "  <tbody>\n",
       "    <tr>\n",
       "      <th>0</th>\n",
       "      <td>432.833333</td>\n",
       "      <td>48.7</td>\n",
       "      <td>13.733333</td>\n",
       "      <td>4.333333</td>\n",
       "      <td>107.0</td>\n",
       "      <td>2</td>\n",
       "      <td>3</td>\n",
       "      <td>0</td>\n",
       "      <td>2015</td>\n",
       "      <td>07</td>\n",
       "      <td>16</td>\n",
       "      <td>16</td>\n",
       "    </tr>\n",
       "    <tr>\n",
       "      <th>1</th>\n",
       "      <td>378.400000</td>\n",
       "      <td>60.0</td>\n",
       "      <td>13.866667</td>\n",
       "      <td>3.933333</td>\n",
       "      <td>84.0</td>\n",
       "      <td>2</td>\n",
       "      <td>3</td>\n",
       "      <td>0</td>\n",
       "      <td>2015</td>\n",
       "      <td>07</td>\n",
       "      <td>16</td>\n",
       "      <td>17</td>\n",
       "    </tr>\n",
       "    <tr>\n",
       "      <th>2</th>\n",
       "      <td>212.583333</td>\n",
       "      <td>60.0</td>\n",
       "      <td>13.216667</td>\n",
       "      <td>4.233333</td>\n",
       "      <td>57.0</td>\n",
       "      <td>2</td>\n",
       "      <td>3</td>\n",
       "      <td>0</td>\n",
       "      <td>2015</td>\n",
       "      <td>07</td>\n",
       "      <td>16</td>\n",
       "      <td>18</td>\n",
       "    </tr>\n",
       "    <tr>\n",
       "      <th>3</th>\n",
       "      <td>79.750000</td>\n",
       "      <td>60.0</td>\n",
       "      <td>12.683333</td>\n",
       "      <td>2.950000</td>\n",
       "      <td>49.0</td>\n",
       "      <td>2</td>\n",
       "      <td>3</td>\n",
       "      <td>0</td>\n",
       "      <td>2015</td>\n",
       "      <td>07</td>\n",
       "      <td>16</td>\n",
       "      <td>19</td>\n",
       "    </tr>\n",
       "    <tr>\n",
       "      <th>4</th>\n",
       "      <td>10.633333</td>\n",
       "      <td>36.0</td>\n",
       "      <td>12.066667</td>\n",
       "      <td>2.483333</td>\n",
       "      <td>45.0</td>\n",
       "      <td>2</td>\n",
       "      <td>3</td>\n",
       "      <td>0</td>\n",
       "      <td>2015</td>\n",
       "      <td>07</td>\n",
       "      <td>16</td>\n",
       "      <td>20</td>\n",
       "    </tr>\n",
       "    <tr>\n",
       "      <th>...</th>\n",
       "      <td>...</td>\n",
       "      <td>...</td>\n",
       "      <td>...</td>\n",
       "      <td>...</td>\n",
       "      <td>...</td>\n",
       "      <td>...</td>\n",
       "      <td>...</td>\n",
       "      <td>...</td>\n",
       "      <td>...</td>\n",
       "      <td>...</td>\n",
       "      <td>...</td>\n",
       "      <td>...</td>\n",
       "    </tr>\n",
       "    <tr>\n",
       "      <th>56381</th>\n",
       "      <td>-0.100000</td>\n",
       "      <td>0.0</td>\n",
       "      <td>6.483333</td>\n",
       "      <td>0.466667</td>\n",
       "      <td>5.0</td>\n",
       "      <td>0</td>\n",
       "      <td>4</td>\n",
       "      <td>0</td>\n",
       "      <td>2021</td>\n",
       "      <td>12</td>\n",
       "      <td>31</td>\n",
       "      <td>18</td>\n",
       "    </tr>\n",
       "    <tr>\n",
       "      <th>56382</th>\n",
       "      <td>-0.266667</td>\n",
       "      <td>0.0</td>\n",
       "      <td>5.616667</td>\n",
       "      <td>2.650000</td>\n",
       "      <td>4.0</td>\n",
       "      <td>0</td>\n",
       "      <td>4</td>\n",
       "      <td>0</td>\n",
       "      <td>2021</td>\n",
       "      <td>12</td>\n",
       "      <td>31</td>\n",
       "      <td>19</td>\n",
       "    </tr>\n",
       "    <tr>\n",
       "      <th>56383</th>\n",
       "      <td>-0.550000</td>\n",
       "      <td>0.0</td>\n",
       "      <td>4.700000</td>\n",
       "      <td>1.916667</td>\n",
       "      <td>2.0</td>\n",
       "      <td>0</td>\n",
       "      <td>4</td>\n",
       "      <td>0</td>\n",
       "      <td>2021</td>\n",
       "      <td>12</td>\n",
       "      <td>31</td>\n",
       "      <td>20</td>\n",
       "    </tr>\n",
       "    <tr>\n",
       "      <th>56384</th>\n",
       "      <td>-1.400000</td>\n",
       "      <td>0.0</td>\n",
       "      <td>4.233333</td>\n",
       "      <td>1.733333</td>\n",
       "      <td>5.0</td>\n",
       "      <td>0</td>\n",
       "      <td>4</td>\n",
       "      <td>0</td>\n",
       "      <td>2021</td>\n",
       "      <td>12</td>\n",
       "      <td>31</td>\n",
       "      <td>21</td>\n",
       "    </tr>\n",
       "    <tr>\n",
       "      <th>56385</th>\n",
       "      <td>-1.783333</td>\n",
       "      <td>0.0</td>\n",
       "      <td>3.716667</td>\n",
       "      <td>0.600000</td>\n",
       "      <td>2.0</td>\n",
       "      <td>0</td>\n",
       "      <td>4</td>\n",
       "      <td>0</td>\n",
       "      <td>2021</td>\n",
       "      <td>12</td>\n",
       "      <td>31</td>\n",
       "      <td>22</td>\n",
       "    </tr>\n",
       "  </tbody>\n",
       "</table>\n",
       "<p>56386 rows × 12 columns</p>\n",
       "</div>"
      ],
      "text/plain": [
       "       Globalstraling  Solskinstid  Lufttemperatur  Vindstyrke  Volum  Season  \\\n",
       "0          432.833333         48.7       13.733333    4.333333  107.0       2   \n",
       "1          378.400000         60.0       13.866667    3.933333   84.0       2   \n",
       "2          212.583333         60.0       13.216667    4.233333   57.0       2   \n",
       "3           79.750000         60.0       12.683333    2.950000   49.0       2   \n",
       "4           10.633333         36.0       12.066667    2.483333   45.0       2   \n",
       "...               ...          ...             ...         ...    ...     ...   \n",
       "56381       -0.100000          0.0        6.483333    0.466667    5.0       0   \n",
       "56382       -0.266667          0.0        5.616667    2.650000    4.0       0   \n",
       "56383       -0.550000          0.0        4.700000    1.916667    2.0       0   \n",
       "56384       -1.400000          0.0        4.233333    1.733333    5.0       0   \n",
       "56385       -1.783333          0.0        3.716667    0.600000    2.0       0   \n",
       "\n",
       "       Weekdays  Weekends  Year Month Day Hour  \n",
       "0             3         0  2015    07  16   16  \n",
       "1             3         0  2015    07  16   17  \n",
       "2             3         0  2015    07  16   18  \n",
       "3             3         0  2015    07  16   19  \n",
       "4             3         0  2015    07  16   20  \n",
       "...         ...       ...   ...   ...  ..  ...  \n",
       "56381         4         0  2021    12  31   18  \n",
       "56382         4         0  2021    12  31   19  \n",
       "56383         4         0  2021    12  31   20  \n",
       "56384         4         0  2021    12  31   21  \n",
       "56385         4         0  2021    12  31   22  \n",
       "\n",
       "[56386 rows x 12 columns]"
      ]
     },
     "execution_count": 49,
     "metadata": {},
     "output_type": "execute_result"
    }
   ],
   "source": [
    "clean_data.drop([\"Datetime\"], axis=1, inplace=True)\n",
    "clean_data"
   ]
  },
  {
   "cell_type": "markdown",
   "metadata": {},
   "source": [
    "### **Data splitting** "
   ]
  },
  {
   "cell_type": "markdown",
   "metadata": {},
   "source": [
    "I split the data into training, validation and test data, and sets shuffle to false, so the data does not get shuffled around. "
   ]
  },
  {
   "cell_type": "code",
   "execution_count": 50,
   "metadata": {},
   "outputs": [],
   "source": [
    "volum = clean_data[\"Volum\"]\n",
    "clean_rest = clean_data.loc[:, clean_data.columns != \"Volum\"]\n",
    "\n",
    "x_train, x_val_and_test, y_train, y_val_and_test = train_test_split(clean_rest, volum, test_size=0.3, shuffle=False)\n",
    "x_test, x_val, y_test, y_val = train_test_split(x_val_and_test, y_val_and_test, test_size=0.5, shuffle=False)"
   ]
  },
  {
   "cell_type": "markdown",
   "metadata": {},
   "source": [
    "Then I made a function to look on the different features and compare them using select K best. The reason for this is that I want to test the models on all the features and then on selected features."
   ]
  },
  {
   "cell_type": "code",
   "execution_count": 51,
   "metadata": {},
   "outputs": [
    {
     "name": "stdout",
     "output_type": "stream",
     "text": [
      "Feature 0: 3726.530887\n",
      "Feature 1: 3450.026807\n",
      "Feature 2: 3664.348050\n",
      "Feature 3: 29.247245\n",
      "Feature 4: 1176.830483\n",
      "Feature 5: 2431.678036\n",
      "Feature 6: 1273.773587\n",
      "Feature 7: 0.487143\n",
      "Feature 8: 71.297613\n",
      "Feature 9: 0.653911\n",
      "Feature 10: 1086.399484\n"
     ]
    },
    {
     "data": {
      "image/png": "[encoded data removed]",
      "text/plain": [
       "<Figure size 640x480 with 1 Axes>"
      ]
     },
     "metadata": {},
     "output_type": "display_data"
    }
   ],
   "source": [
    "def select_features(x_train, y_train, x_test):\n",
    "    features_to_select = SelectKBest(score_func=f_regression, k=\"all\")\n",
    "    features_to_select.fit(x_train, y_train)\n",
    "    x_train_fs = features_to_select.transform(x_train)\n",
    "    x_test_fs = features_to_select.transform(x_test)\n",
    "    return x_train_fs, x_test_fs, features_to_select\n",
    "\n",
    "x_train_fs, x_val_fs, features_to_select = select_features(x_train, y_train, x_val)\n",
    "\n",
    "for i in range(len(features_to_select.scores_)):\n",
    "    print('Feature %d: %f' % (i, features_to_select.scores_[i]))\n",
    "\n",
    "pyplot.bar([i for i in range(len(features_to_select.scores_))], features_to_select.scores_)\n",
    "pyplot.show()"
   ]
  },
  {
   "cell_type": "markdown",
   "metadata": {},
   "source": [
    "By looking on the values and the plot from the function above, I selected the best features and split the data into training, validation and test data based on the best features. "
   ]
  },
  {
   "cell_type": "code",
   "execution_count": 52,
   "metadata": {},
   "outputs": [],
   "source": [
    "selected_features = [\"Globalstraling\", \"Solskinstid\", \"Lufttemperatur\", \"Season\", \"Weekdays\", \"Weekends\", \"Hour\"]\n",
    "\n",
    "x_selected = clean_data.loc[:, selected_features]\n",
    "y_selected = clean_data[\"Volum\"]\n",
    "\n",
    "x_train_s, x_val_and_test_s, y_train_s, y_val_and_test_s = train_test_split(x_selected, y_selected, test_size=0.3, shuffle=False)\n",
    "x_val_s, x_test_s, y_val_s, y_test_s = train_test_split(x_val_and_test_s, y_val_and_test_s, test_size=0.5, shuffle=False)\n"
   ]
  },
  {
   "cell_type": "markdown",
   "metadata": {},
   "source": [
    "### **Baseline model**"
   ]
  },
  {
   "cell_type": "markdown",
   "metadata": {},
   "source": [
    "Then I made a baseline model using DummyRegressor and calculating RMSE."
   ]
  },
  {
   "cell_type": "code",
   "execution_count": 53,
   "metadata": {},
   "outputs": [
    {
     "name": "stdout",
     "output_type": "stream",
     "text": [
      "RMSE: 65.10283875003901\n"
     ]
    }
   ],
   "source": [
    "baseline = DummyRegressor(strategy=\"mean\")\n",
    "baseline.fit(x_train, y_train)\n",
    "prediction = baseline.predict(x_val)\n",
    "print(\"RMSE:\", (np.sqrt(mean_squared_error(y_val, prediction))))"
   ]
  },
  {
   "cell_type": "markdown",
   "metadata": {},
   "source": [
    "### **Models**"
   ]
  },
  {
   "cell_type": "markdown",
   "metadata": {},
   "source": [
    "Then I selected a few different models to test my data on, I saved them in a list to be able to use them further on."
   ]
  },
  {
   "cell_type": "code",
   "execution_count": 54,
   "metadata": {},
   "outputs": [],
   "source": [
    "models = [Lasso(), RandomForestRegressor(), KNeighborsRegressor(), ElasticNet(), HistGradientBoostingRegressor(), DecisionTreeRegressor(), MLPRegressor()]"
   ]
  },
  {
   "cell_type": "markdown",
   "metadata": {},
   "source": [
    "I made to empty lists, to collect the different models with its respective RMSE."
   ]
  },
  {
   "cell_type": "code",
   "execution_count": 55,
   "metadata": {},
   "outputs": [],
   "source": [
    "trained_allfeatures = []\n",
    "trained_selectedfeatures = []"
   ]
  },
  {
   "cell_type": "markdown",
   "metadata": {},
   "source": [
    "I made a for loop to iterate through the different models. The first for loop is for the selected features."
   ]
  },
  {
   "cell_type": "code",
   "execution_count": 56,
   "metadata": {},
   "outputs": [
    {
     "name": "stdout",
     "output_type": "stream",
     "text": [
      "Lasso() RMSE: 63.07567416646103\n",
      "RandomForestRegressor() RMSE: 39.2680488975862\n",
      "KNeighborsRegressor() RMSE: 52.55865441745597\n",
      "ElasticNet() RMSE: 63.089195829468935\n",
      "HistGradientBoostingRegressor() RMSE: 37.81518134838765\n",
      "DecisionTreeRegressor() RMSE: 49.61704968827013\n",
      "MLPRegressor() RMSE: 50.46368233499497\n"
     ]
    },
    {
     "name": "stderr",
     "output_type": "stream",
     "text": [
      "c:\\Users\\julie\\AppData\\Local\\Programs\\Python\\Python310\\lib\\site-packages\\sklearn\\neural_network\\_multilayer_perceptron.py:702: ConvergenceWarning: Stochastic Optimizer: Maximum iterations (200) reached and the optimization hasn't converged yet.\n",
      "  warnings.warn(\n"
     ]
    }
   ],
   "source": [
    "for j in models:\n",
    "    model = j\n",
    "\n",
    "    model.fit(x_train_s, y_train_s)\n",
    "    predict = np.rint(model.predict(x_val_s))\n",
    "\n",
    "    mse = mean_squared_error(y_val_s, predict)\n",
    "    rmse = np.sqrt(mse)\n",
    "\n",
    "    print(model, \"RMSE:\", rmse)\n",
    "    trained_selectedfeatures.append({\"Model\" : model, \"RMSE\" : rmse})"
   ]
  },
  {
   "cell_type": "markdown",
   "metadata": {},
   "source": [
    "Then I did the same as above, but now with all features represented."
   ]
  },
  {
   "cell_type": "code",
   "execution_count": 57,
   "metadata": {},
   "outputs": [
    {
     "name": "stdout",
     "output_type": "stream",
     "text": [
      "Lasso() RMSE: 55.992059996850834\n",
      "RandomForestRegressor() RMSE: 27.500968404454152\n",
      "KNeighborsRegressor() RMSE: 51.76579531346965\n",
      "ElasticNet() RMSE: 55.99587125441294\n",
      "HistGradientBoostingRegressor() RMSE: 28.749412693066684\n",
      "DecisionTreeRegressor() RMSE: 38.18727111975169\n",
      "MLPRegressor() RMSE: 44.00303628896965\n"
     ]
    },
    {
     "name": "stderr",
     "output_type": "stream",
     "text": [
      "c:\\Users\\julie\\AppData\\Local\\Programs\\Python\\Python310\\lib\\site-packages\\sklearn\\neural_network\\_multilayer_perceptron.py:702: ConvergenceWarning: Stochastic Optimizer: Maximum iterations (200) reached and the optimization hasn't converged yet.\n",
      "  warnings.warn(\n"
     ]
    }
   ],
   "source": [
    "for i in models:\n",
    "    model = i\n",
    "\n",
    "    model.fit(x_train, y_train)\n",
    "    predict = np.rint(model.predict(x_val))\n",
    "\n",
    "    mse = mean_squared_error(y_val, predict)\n",
    "    rmse = np.sqrt(mse)\n",
    "\n",
    "    print(model, \"RMSE:\", rmse)\n",
    "    trained_allfeatures.append({\"Model\" : model, \"RMSE\" : rmse})\n"
   ]
  },
  {
   "cell_type": "markdown",
   "metadata": {},
   "source": [
    "After calculating the RMSE for all the models, I found the model with the best RMSE. First, I did it for selected features."
   ]
  },
  {
   "cell_type": "code",
   "execution_count": 58,
   "metadata": {},
   "outputs": [
    {
     "name": "stdout",
     "output_type": "stream",
     "text": [
      "HistGradientBoostingRegressor()\n"
     ]
    }
   ],
   "source": [
    "min_rmse_selected = min([model[\"RMSE\"] for model in trained_selectedfeatures])\n",
    "\n",
    "for model in trained_selectedfeatures:\n",
    "    if model[\"RMSE\"] == min_rmse_selected:\n",
    "        best_model_selected = model[\"Model\"]\n",
    "\n",
    "print(best_model_selected)"
   ]
  },
  {
   "cell_type": "markdown",
   "metadata": {},
   "source": [
    "Then I found the model with the best RMSE for all features."
   ]
  },
  {
   "cell_type": "code",
   "execution_count": 59,
   "metadata": {},
   "outputs": [
    {
     "name": "stdout",
     "output_type": "stream",
     "text": [
      "RandomForestRegressor()\n"
     ]
    }
   ],
   "source": [
    "min_rmse_all = min([model[\"RMSE\"] for model in trained_allfeatures])\n",
    "\n",
    "for model in trained_allfeatures:\n",
    "    if model[\"RMSE\"] == min_rmse_all:\n",
    "        best_model_all = model[\"Model\"]\n",
    "\n",
    "print(best_model_all)"
   ]
  },
  {
   "cell_type": "markdown",
   "metadata": {},
   "source": [
    "The best model was RandomForestRegressor with all features, so I continued with that one to my test data. Which are shown below."
   ]
  },
  {
   "cell_type": "code",
   "execution_count": 60,
   "metadata": {},
   "outputs": [
    {
     "name": "stdout",
     "output_type": "stream",
     "text": [
      "RandomForestRegressor() RMSE: 33.67210786805623\n"
     ]
    }
   ],
   "source": [
    "model_test = mean_squared_error(y_test, best_model_all.predict(x_test), squared=False)\n",
    "\n",
    "print(best_model_all, \"RMSE:\", model_test)"
   ]
  },
  {
   "cell_type": "markdown",
   "metadata": {},
   "source": [
    "Then I checked the weather and traffic data for 2022 for missing values."
   ]
  },
  {
   "cell_type": "code",
   "execution_count": 61,
   "metadata": {},
   "outputs": [
    {
     "data": {
      "text/plain": [
       "Datetime             0\n",
       "Globalstraling      31\n",
       "Solskinstid          0\n",
       "Lufttemperatur      28\n",
       "Vindstyrke          28\n",
       "Volum             3554\n",
       "Season               0\n",
       "Weekdays             0\n",
       "Weekends             0\n",
       "dtype: int64"
      ]
     },
     "execution_count": 61,
     "metadata": {},
     "output_type": "execute_result"
    }
   ],
   "source": [
    "weather_traffic_2022.isna().sum()"
   ]
  },
  {
   "cell_type": "markdown",
   "metadata": {},
   "source": [
    "Since there are missing values for \"Globalstraling\", \"Lufttemperatur\" and \"Vindstyrke\", I replace the missing values with the mean value. \n",
    "\n",
    "I continued the cleaning of the weather and traffic for 2022 by separating the \"Datetime\" column into four separate columns, as I did earlier. \n",
    "\n",
    "Then I split the data in two, where one parameter consits of the volum and the other have the rest. I checked the rest for missing values to be sure that all missing values were gone. "
   ]
  },
  {
   "cell_type": "code",
   "execution_count": 62,
   "metadata": {},
   "outputs": [
    {
     "data": {
      "text/plain": [
       "Globalstraling    0\n",
       "Solskinstid       0\n",
       "Lufttemperatur    0\n",
       "Vindstyrke        0\n",
       "Season            0\n",
       "Weekdays          0\n",
       "Weekends          0\n",
       "Year              0\n",
       "Month             0\n",
       "Day               0\n",
       "Hour              0\n",
       "dtype: int64"
      ]
     },
     "execution_count": 62,
     "metadata": {},
     "output_type": "execute_result"
    }
   ],
   "source": [
    "weather_traffic_2022[\"Lufttemperatur\"].fillna((weather_traffic_2022[\"Lufttemperatur\"].mean()), inplace=True)\n",
    "weather_traffic_2022[\"Vindstyrke\"].fillna((weather_traffic_2022[\"Vindstyrke\"].mean()), inplace=True)\n",
    "weather_traffic_2022[\"Globalstraling\"].fillna((weather_traffic_2022[\"Globalstraling\"].mean()), inplace=True)\n",
    "\n",
    "separateDatetime(weather_traffic_2022)\n",
    "weather_traffic_2022.drop([\"Datetime\"], axis=1, inplace=True)\n",
    "\n",
    "volum_wf2022 = weather_traffic_2022[\"Volum\"]\n",
    "wf2022_rest = weather_traffic_2022.loc[:, weather_traffic_2022.columns != \"Volum\"]\n",
    "\n",
    "wf2022_rest.isna().sum()\n"
   ]
  },
  {
   "cell_type": "markdown",
   "metadata": {},
   "source": [
    "Then I did the prediction on the rest that I made above, and saved the preidictions to a csv file. "
   ]
  },
  {
   "cell_type": "code",
   "execution_count": 63,
   "metadata": {},
   "outputs": [],
   "source": [
    "prediction_2022 = best_model_all.predict(wf2022_rest).clip(0) \n",
    "prediction_2022 = np.round(prediction_2022, 0)\n",
    "prediction = pd.DataFrame(prediction_2022, columns=[\"Volum\"])\n",
    "prediction = prediction.reset_index().rename(columns={\"index\": \"ID\"})\n",
    "\n",
    "prediction.to_csv(\"predictions.csv\")"
   ]
  },
  {
   "cell_type": "markdown",
   "metadata": {},
   "source": [
    "Ultimately, I used pickle.dump on the best model."
   ]
  },
  {
   "cell_type": "code",
   "execution_count": 64,
   "metadata": {},
   "outputs": [],
   "source": [
    "pickle.dump(best_model_all, open(\"model.pkl\", \"wb\"))"
   ]
  }
 ],
 "metadata": {
  "kernelspec": {
   "display_name": "Python 3.10.4 64-bit",
   "language": "python",
   "name": "python3"
  },
  "language_info": {
   "codemirror_mode": {
    "name": "ipython",
    "version": 3
   },
   "file_extension": ".py",
   "mimetype": "text/x-python",
   "name": "python",
   "nbconvert_exporter": "python",
   "pygments_lexer": "ipython3",
   "version": "3.10.4"
  },
  "orig_nbformat": 4,
  "vscode": {
   "interpreter": {
    "hash": "12b7361abc8f2b04328ecda14f13dcf320ed8efb6b3710f7b4817c2e53df4b4c"
   }
  }
 },
 "nbformat": 4,
 "nbformat_minor": 2
}
